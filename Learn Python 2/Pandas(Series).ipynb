{
 "cells": [
  {
   "cell_type": "markdown",
   "id": "4d6d0f08-943b-4945-8316-266e37bf0868",
   "metadata": {},
   "source": [
    "# Pandas"
   ]
  },
  {
   "cell_type": "markdown",
   "id": "c97cc7a3-cee5-4d11-b514-62458c37eaa8",
   "metadata": {},
   "source": [
    "Pandas has two objects, namely series and data frame"
   ]
  },
  {
   "cell_type": "markdown",
   "id": "1dc69a94-0cc8-4f0e-bf97-154dea6a8481",
   "metadata": {},
   "source": [
    "Pandas (Python for Data Analysis) is a Python library that focuses on data analysis processes such as data manipulation, data preparation, and data cleaning. Pandas provides high-level data structures and functions to make working with structured/tabular data faster, easier, and expressive."
   ]
  },
  {
   "cell_type": "markdown",
   "id": "c5fd6cc2-b2ec-4713-a2d2-c46bdbf33587",
   "metadata": {},
   "source": [
    "Import libraries that are needed"
   ]
  },
  {
   "cell_type": "code",
   "execution_count": 4,
   "id": "612ede55-4315-4eb7-99c4-40f113e67a8f",
   "metadata": {},
   "outputs": [],
   "source": [
    "import pandas as pd\n",
    "import numpy as np"
   ]
  },
  {
   "cell_type": "markdown",
   "id": "c09f4643-2fdd-4a70-87e5-234a5a39aff6",
   "metadata": {},
   "source": [
    "## Object Series"
   ]
  },
  {
   "cell_type": "markdown",
   "id": "72bb7caf-07be-477d-b553-03fa5a66eae6",
   "metadata": {},
   "source": [
    "A Pandas Series is like a column in a table. It is a one-dimensional array holding data of any type"
   ]
  },
  {
   "cell_type": "markdown",
   "id": "c34a8fed-be3f-447a-ae9d-1a9cd24061ed",
   "metadata": {},
   "source": [
    "### Change into a Series"
   ]
  },
  {
   "cell_type": "code",
   "execution_count": 1,
   "id": "0903614b-cd02-46bc-b6b4-1d3c3f2ab7e5",
   "metadata": {},
   "outputs": [],
   "source": [
    "data = [0.25, 0.50, 0.75, 1]"
   ]
  },
  {
   "cell_type": "code",
   "execution_count": 2,
   "id": "2d1a4dce-a1a4-4cd6-96ab-eb408fbe6ed0",
   "metadata": {},
   "outputs": [
    {
     "name": "stdout",
     "output_type": "stream",
     "text": [
      "[0.25, 0.5, 0.75, 1]\n"
     ]
    }
   ],
   "source": [
    "print(data)"
   ]
  },
  {
   "cell_type": "code",
   "execution_count": 5,
   "id": "e4a6586c-2a15-451f-92b1-1456753e39ce",
   "metadata": {},
   "outputs": [],
   "source": [
    "data = pd.Series(data)"
   ]
  },
  {
   "cell_type": "code",
   "execution_count": 6,
   "id": "df4aeb94-b7ef-47c7-b703-bb46a5327619",
   "metadata": {},
   "outputs": [
    {
     "data": {
      "text/plain": [
       "0    0.25\n",
       "1    0.50\n",
       "2    0.75\n",
       "3    1.00\n",
       "dtype: float64"
      ]
     },
     "execution_count": 6,
     "metadata": {},
     "output_type": "execute_result"
    }
   ],
   "source": [
    "data"
   ]
  },
  {
   "cell_type": "markdown",
   "id": "98d00ffc-1659-4c5f-9e18-eb69e2c855e3",
   "metadata": {},
   "source": [
    "### Convert series into an array"
   ]
  },
  {
   "cell_type": "code",
   "execution_count": 7,
   "id": "f3183038-17be-495d-9af7-119825e4d5b4",
   "metadata": {},
   "outputs": [
    {
     "data": {
      "text/plain": [
       "array([0.25, 0.5 , 0.75, 1.  ])"
      ]
     },
     "execution_count": 7,
     "metadata": {},
     "output_type": "execute_result"
    }
   ],
   "source": [
    "data.values"
   ]
  },
  {
   "cell_type": "markdown",
   "id": "50ce3fc2-8099-4154-ae1c-8ddabf6891c7",
   "metadata": {},
   "source": [
    "### Showing Index"
   ]
  },
  {
   "cell_type": "code",
   "execution_count": 8,
   "id": "096c8e5a-a117-4bda-9181-d863be829689",
   "metadata": {},
   "outputs": [
    {
     "data": {
      "text/plain": [
       "RangeIndex(start=0, stop=4, step=1)"
      ]
     },
     "execution_count": 8,
     "metadata": {},
     "output_type": "execute_result"
    }
   ],
   "source": [
    "data.index"
   ]
  },
  {
   "cell_type": "markdown",
   "id": "92a7218f-f635-4962-a2c1-de010caeee85",
   "metadata": {},
   "source": [
    "### How to select data"
   ]
  },
  {
   "cell_type": "code",
   "execution_count": 9,
   "id": "5abd303f-8a0b-4d06-b83c-5c8ae373d369",
   "metadata": {},
   "outputs": [
    {
     "data": {
      "text/plain": [
       "0.75"
      ]
     },
     "execution_count": 9,
     "metadata": {},
     "output_type": "execute_result"
    }
   ],
   "source": [
    "data[2]"
   ]
  },
  {
   "cell_type": "markdown",
   "id": "dd5e5f75-a65c-46be-a499-1de42318dce8",
   "metadata": {},
   "source": [
    "Implicit indexing is the default index. We can define our index, known as explicit indexing. When defining an index, the number of indexes must match the number of data points."
   ]
  },
  {
   "cell_type": "code",
   "execution_count": 10,
   "id": "c8b93d20-dd60-42ac-9586-7a3b6545fa02",
   "metadata": {},
   "outputs": [
    {
     "data": {
      "text/plain": [
       "0    0.25\n",
       "1    0.50\n",
       "2    0.75\n",
       "3    1.00\n",
       "dtype: float64"
      ]
     },
     "execution_count": 10,
     "metadata": {},
     "output_type": "execute_result"
    }
   ],
   "source": [
    "data"
   ]
  },
  {
   "cell_type": "code",
   "execution_count": 11,
   "id": "bdfcf6cf-78c4-4ea1-b178-0765a9a2685e",
   "metadata": {},
   "outputs": [],
   "source": [
    "data = pd.Series([0.25, 0.50, 0.75, 1], index=['a', 'b', 'c', 'd'])"
   ]
  },
  {
   "cell_type": "code",
   "execution_count": 12,
   "id": "7e7f9627-78fc-4b0c-a416-205a4867efc3",
   "metadata": {},
   "outputs": [
    {
     "data": {
      "text/plain": [
       "a    0.25\n",
       "b    0.50\n",
       "c    0.75\n",
       "d    1.00\n",
       "dtype: float64"
      ]
     },
     "execution_count": 12,
     "metadata": {},
     "output_type": "execute_result"
    }
   ],
   "source": [
    "data"
   ]
  },
  {
   "cell_type": "code",
   "execution_count": 13,
   "id": "184b9c24-a803-4af1-9a92-367946f05876",
   "metadata": {},
   "outputs": [
    {
     "data": {
      "text/plain": [
       "array([0.25, 0.5 , 0.75, 1.  ])"
      ]
     },
     "execution_count": 13,
     "metadata": {},
     "output_type": "execute_result"
    }
   ],
   "source": [
    "data.values"
   ]
  },
  {
   "cell_type": "code",
   "execution_count": 14,
   "id": "cec97318-4b57-4272-a0aa-d0952524c8c2",
   "metadata": {},
   "outputs": [
    {
     "data": {
      "text/plain": [
       "Index(['a', 'b', 'c', 'd'], dtype='object')"
      ]
     },
     "execution_count": 14,
     "metadata": {},
     "output_type": "execute_result"
    }
   ],
   "source": [
    "data.index"
   ]
  },
  {
   "cell_type": "code",
   "execution_count": 15,
   "id": "4557225c-f40a-47fe-b257-1329ba7de6d6",
   "metadata": {},
   "outputs": [
    {
     "data": {
      "text/plain": [
       "0.25"
      ]
     },
     "execution_count": 15,
     "metadata": {},
     "output_type": "execute_result"
    }
   ],
   "source": [
    "# call explicit data\n",
    "\n",
    "data['a']"
   ]
  },
  {
   "cell_type": "code",
   "execution_count": 16,
   "id": "d8d2beff-003a-4d7b-a711-c55725ca3305",
   "metadata": {},
   "outputs": [
    {
     "name": "stderr",
     "output_type": "stream",
     "text": [
      "C:\\Users\\andhito galih\\AppData\\Local\\Temp\\ipykernel_19108\\3696817183.py:3: FutureWarning: Series.__getitem__ treating keys as positions is deprecated. In a future version, integer keys will always be treated as labels (consistent with DataFrame behavior). To access a value by position, use `ser.iloc[pos]`\n",
      "  data[3]\n"
     ]
    },
    {
     "data": {
      "text/plain": [
       "1.0"
      ]
     },
     "execution_count": 16,
     "metadata": {},
     "output_type": "execute_result"
    }
   ],
   "source": [
    "# panggil data implisit\n",
    "\n",
    "data[3]"
   ]
  },
  {
   "cell_type": "code",
   "execution_count": 18,
   "id": "70946183-5afe-4919-bf73-1ae415f787ea",
   "metadata": {},
   "outputs": [],
   "source": [
    "bilganjil_2 = pd.Series([1,3,5,7,9], index=[2,4,6,8,10])"
   ]
  },
  {
   "cell_type": "code",
   "execution_count": 19,
   "id": "f5ff04f5-f04d-4313-b0eb-725865c2ab85",
   "metadata": {},
   "outputs": [
    {
     "data": {
      "text/plain": [
       "7"
      ]
     },
     "execution_count": 19,
     "metadata": {},
     "output_type": "execute_result"
    }
   ],
   "source": [
    "bilganjil_2[8]"
   ]
  },
  {
   "cell_type": "code",
   "execution_count": 20,
   "id": "f77b487c-edfd-42d7-a226-53d9e6b798ff",
   "metadata": {},
   "outputs": [
    {
     "ename": "KeyError",
     "evalue": "1",
     "output_type": "error",
     "traceback": [
      "\u001b[1;31m---------------------------------------------------------------------------\u001b[0m",
      "\u001b[1;31mKeyError\u001b[0m                                  Traceback (most recent call last)",
      "File \u001b[1;32mD:\\Anaconda\\Lib\\site-packages\\pandas\\core\\indexes\\base.py:3791\u001b[0m, in \u001b[0;36mIndex.get_loc\u001b[1;34m(self, key)\u001b[0m\n\u001b[0;32m   3790\u001b[0m \u001b[38;5;28;01mtry\u001b[39;00m:\n\u001b[1;32m-> 3791\u001b[0m     \u001b[38;5;28;01mreturn\u001b[39;00m \u001b[38;5;28mself\u001b[39m\u001b[38;5;241m.\u001b[39m_engine\u001b[38;5;241m.\u001b[39mget_loc(casted_key)\n\u001b[0;32m   3792\u001b[0m \u001b[38;5;28;01mexcept\u001b[39;00m \u001b[38;5;167;01mKeyError\u001b[39;00m \u001b[38;5;28;01mas\u001b[39;00m err:\n",
      "File \u001b[1;32mindex.pyx:152\u001b[0m, in \u001b[0;36mpandas._libs.index.IndexEngine.get_loc\u001b[1;34m()\u001b[0m\n",
      "File \u001b[1;32mindex.pyx:181\u001b[0m, in \u001b[0;36mpandas._libs.index.IndexEngine.get_loc\u001b[1;34m()\u001b[0m\n",
      "File \u001b[1;32mpandas\\_libs\\hashtable_class_helper.pxi:2606\u001b[0m, in \u001b[0;36mpandas._libs.hashtable.Int64HashTable.get_item\u001b[1;34m()\u001b[0m\n",
      "File \u001b[1;32mpandas\\_libs\\hashtable_class_helper.pxi:2630\u001b[0m, in \u001b[0;36mpandas._libs.hashtable.Int64HashTable.get_item\u001b[1;34m()\u001b[0m\n",
      "\u001b[1;31mKeyError\u001b[0m: 1",
      "\nThe above exception was the direct cause of the following exception:\n",
      "\u001b[1;31mKeyError\u001b[0m                                  Traceback (most recent call last)",
      "Cell \u001b[1;32mIn[20], line 1\u001b[0m\n\u001b[1;32m----> 1\u001b[0m bilganjil_2[\u001b[38;5;241m1\u001b[39m]\n",
      "File \u001b[1;32mD:\\Anaconda\\Lib\\site-packages\\pandas\\core\\series.py:1040\u001b[0m, in \u001b[0;36mSeries.__getitem__\u001b[1;34m(self, key)\u001b[0m\n\u001b[0;32m   1037\u001b[0m     \u001b[38;5;28;01mreturn\u001b[39;00m \u001b[38;5;28mself\u001b[39m\u001b[38;5;241m.\u001b[39m_values[key]\n\u001b[0;32m   1039\u001b[0m \u001b[38;5;28;01melif\u001b[39;00m key_is_scalar:\n\u001b[1;32m-> 1040\u001b[0m     \u001b[38;5;28;01mreturn\u001b[39;00m \u001b[38;5;28mself\u001b[39m\u001b[38;5;241m.\u001b[39m_get_value(key)\n\u001b[0;32m   1042\u001b[0m \u001b[38;5;66;03m# Convert generator to list before going through hashable part\u001b[39;00m\n\u001b[0;32m   1043\u001b[0m \u001b[38;5;66;03m# (We will iterate through the generator there to check for slices)\u001b[39;00m\n\u001b[0;32m   1044\u001b[0m \u001b[38;5;28;01mif\u001b[39;00m is_iterator(key):\n",
      "File \u001b[1;32mD:\\Anaconda\\Lib\\site-packages\\pandas\\core\\series.py:1156\u001b[0m, in \u001b[0;36mSeries._get_value\u001b[1;34m(self, label, takeable)\u001b[0m\n\u001b[0;32m   1153\u001b[0m     \u001b[38;5;28;01mreturn\u001b[39;00m \u001b[38;5;28mself\u001b[39m\u001b[38;5;241m.\u001b[39m_values[label]\n\u001b[0;32m   1155\u001b[0m \u001b[38;5;66;03m# Similar to Index.get_value, but we do not fall back to positional\u001b[39;00m\n\u001b[1;32m-> 1156\u001b[0m loc \u001b[38;5;241m=\u001b[39m \u001b[38;5;28mself\u001b[39m\u001b[38;5;241m.\u001b[39mindex\u001b[38;5;241m.\u001b[39mget_loc(label)\n\u001b[0;32m   1158\u001b[0m \u001b[38;5;28;01mif\u001b[39;00m is_integer(loc):\n\u001b[0;32m   1159\u001b[0m     \u001b[38;5;28;01mreturn\u001b[39;00m \u001b[38;5;28mself\u001b[39m\u001b[38;5;241m.\u001b[39m_values[loc]\n",
      "File \u001b[1;32mD:\\Anaconda\\Lib\\site-packages\\pandas\\core\\indexes\\base.py:3798\u001b[0m, in \u001b[0;36mIndex.get_loc\u001b[1;34m(self, key)\u001b[0m\n\u001b[0;32m   3793\u001b[0m     \u001b[38;5;28;01mif\u001b[39;00m \u001b[38;5;28misinstance\u001b[39m(casted_key, \u001b[38;5;28mslice\u001b[39m) \u001b[38;5;129;01mor\u001b[39;00m (\n\u001b[0;32m   3794\u001b[0m         \u001b[38;5;28misinstance\u001b[39m(casted_key, abc\u001b[38;5;241m.\u001b[39mIterable)\n\u001b[0;32m   3795\u001b[0m         \u001b[38;5;129;01mand\u001b[39;00m \u001b[38;5;28many\u001b[39m(\u001b[38;5;28misinstance\u001b[39m(x, \u001b[38;5;28mslice\u001b[39m) \u001b[38;5;28;01mfor\u001b[39;00m x \u001b[38;5;129;01min\u001b[39;00m casted_key)\n\u001b[0;32m   3796\u001b[0m     ):\n\u001b[0;32m   3797\u001b[0m         \u001b[38;5;28;01mraise\u001b[39;00m InvalidIndexError(key)\n\u001b[1;32m-> 3798\u001b[0m     \u001b[38;5;28;01mraise\u001b[39;00m \u001b[38;5;167;01mKeyError\u001b[39;00m(key) \u001b[38;5;28;01mfrom\u001b[39;00m \u001b[38;5;21;01merr\u001b[39;00m\n\u001b[0;32m   3799\u001b[0m \u001b[38;5;28;01mexcept\u001b[39;00m \u001b[38;5;167;01mTypeError\u001b[39;00m:\n\u001b[0;32m   3800\u001b[0m     \u001b[38;5;66;03m# If we have a listlike key, _check_indexing_error will raise\u001b[39;00m\n\u001b[0;32m   3801\u001b[0m     \u001b[38;5;66;03m#  InvalidIndexError. Otherwise we fall through and re-raise\u001b[39;00m\n\u001b[0;32m   3802\u001b[0m     \u001b[38;5;66;03m#  the TypeError.\u001b[39;00m\n\u001b[0;32m   3803\u001b[0m     \u001b[38;5;28mself\u001b[39m\u001b[38;5;241m.\u001b[39m_check_indexing_error(key)\n",
      "\u001b[1;31mKeyError\u001b[0m: 1"
     ]
    }
   ],
   "source": [
    "bilganjil_2[1]"
   ]
  },
  {
   "cell_type": "code",
   "execution_count": 21,
   "id": "04bfe4e3-93ea-48ce-8b37-5c263155b4fa",
   "metadata": {},
   "outputs": [],
   "source": [
    "bilganjil = pd.Series([1,3,5,7,9], index=['a', 'b', 'c', 'd', 'e'])"
   ]
  },
  {
   "cell_type": "code",
   "execution_count": 22,
   "id": "761812d8-3f9d-433a-a821-dae81201fe48",
   "metadata": {},
   "outputs": [
    {
     "data": {
      "text/plain": [
       "a    1\n",
       "b    3\n",
       "c    5\n",
       "d    7\n",
       "e    9\n",
       "dtype: int64"
      ]
     },
     "execution_count": 22,
     "metadata": {},
     "output_type": "execute_result"
    }
   ],
   "source": [
    "bilganjil"
   ]
  },
  {
   "cell_type": "code",
   "execution_count": 23,
   "id": "548c07f8-676f-40ed-8dd5-7c7416de2e14",
   "metadata": {},
   "outputs": [
    {
     "data": {
      "text/plain": [
       "b    3\n",
       "c    5\n",
       "dtype: int64"
      ]
     },
     "execution_count": 23,
     "metadata": {},
     "output_type": "execute_result"
    }
   ],
   "source": [
    "# indeks eksplisit\n",
    "bilganjil['b':'c']"
   ]
  },
  {
   "cell_type": "code",
   "execution_count": 24,
   "id": "f2be842f-f256-4919-9692-f374a064907a",
   "metadata": {},
   "outputs": [
    {
     "data": {
      "text/plain": [
       "b    3\n",
       "dtype: int64"
      ]
     },
     "execution_count": 24,
     "metadata": {},
     "output_type": "execute_result"
    }
   ],
   "source": [
    "# indeks implisit\n",
    "bilganjil[1:2]"
   ]
  },
  {
   "cell_type": "markdown",
   "id": "401cbb0c-40dc-4358-83b0-514680a25be1",
   "metadata": {},
   "source": [
    "## LOC and ILOC"
   ]
  },
  {
   "cell_type": "markdown",
   "id": "bc4b597b-382a-444f-b527-e1e718526897",
   "metadata": {},
   "source": [
    "### Loc (Location)"
   ]
  },
  {
   "cell_type": "markdown",
   "id": "35910fc8-0792-4878-8c23-81fa84e09c9f",
   "metadata": {},
   "source": [
    "Loc is short for location. As the name implies, it is used to select data at a specific location only."
   ]
  },
  {
   "cell_type": "code",
   "execution_count": 25,
   "id": "7b3e74ea-d66c-427c-afe4-4e49aa482bbc",
   "metadata": {},
   "outputs": [
    {
     "data": {
      "text/plain": [
       "1"
      ]
     },
     "execution_count": 25,
     "metadata": {},
     "output_type": "execute_result"
    }
   ],
   "source": [
    "# indeks eksplisit\n",
    "bilganjil.loc['a']"
   ]
  },
  {
   "cell_type": "code",
   "execution_count": 26,
   "id": "46420a18-7a2b-4c0f-ab63-9780f46af8b3",
   "metadata": {},
   "outputs": [
    {
     "data": {
      "text/plain": [
       "b    3\n",
       "c    5\n",
       "d    7\n",
       "dtype: int64"
      ]
     },
     "execution_count": 26,
     "metadata": {},
     "output_type": "execute_result"
    }
   ],
   "source": [
    "bilganjil.loc['b':'d']"
   ]
  },
  {
   "cell_type": "markdown",
   "id": "7f425a19-de27-438e-9960-f19a3046a31f",
   "metadata": {},
   "source": [
    "### Iloc ()"
   ]
  },
  {
   "cell_type": "markdown",
   "id": "12578ca1-9cfb-4581-b614-a0169831f95b",
   "metadata": {},
   "source": [
    "The iloc property gets, or sets, the value(s) of the specified indexes. Specify both row and column with an index."
   ]
  },
  {
   "cell_type": "code",
   "execution_count": 27,
   "id": "b59c545d-72ef-4479-ad7a-44e53388e67b",
   "metadata": {},
   "outputs": [
    {
     "data": {
      "text/plain": [
       "1"
      ]
     },
     "execution_count": 27,
     "metadata": {},
     "output_type": "execute_result"
    }
   ],
   "source": [
    "# indeks implisit\n",
    "bilganjil.iloc[0]"
   ]
  },
  {
   "cell_type": "code",
   "execution_count": 28,
   "id": "e9b53963-6399-4f5e-a997-8a1165cdb984",
   "metadata": {},
   "outputs": [
    {
     "data": {
      "text/plain": [
       "3"
      ]
     },
     "execution_count": 28,
     "metadata": {},
     "output_type": "execute_result"
    }
   ],
   "source": [
    "# indeks implisit\n",
    "bilganjil.iloc[1]"
   ]
  },
  {
   "cell_type": "code",
   "execution_count": 29,
   "id": "161f02b8-360d-4bc1-8019-a01212b1f69f",
   "metadata": {},
   "outputs": [
    {
     "data": {
      "text/plain": [
       "b    3\n",
       "c    5\n",
       "dtype: int64"
      ]
     },
     "execution_count": 29,
     "metadata": {},
     "output_type": "execute_result"
    }
   ],
   "source": [
    "# indeks implisit\n",
    "bilganjil.iloc[1:3]"
   ]
  },
  {
   "cell_type": "markdown",
   "id": "bdaea59b-bed0-4a0e-9b32-c6638115102b",
   "metadata": {},
   "source": [
    "## Dictionary"
   ]
  },
  {
   "cell_type": "code",
   "execution_count": 30,
   "id": "bcfe1256-30ba-4a4c-b4f1-b61ebc44645d",
   "metadata": {},
   "outputs": [],
   "source": [
    "dict_Pop = {'Indonesia':273.523e6, \n",
    "            'United States':332.905e6, \n",
    "            'Japan':125.833e6\n",
    "}"
   ]
  },
  {
   "cell_type": "code",
   "execution_count": 31,
   "id": "3734b816-7c6a-4e33-b3e1-71dd7d3ca5a2",
   "metadata": {},
   "outputs": [
    {
     "data": {
      "text/plain": [
       "{'Indonesia': 273523000.0, 'United States': 332905000.0, 'Japan': 125833000.0}"
      ]
     },
     "execution_count": 31,
     "metadata": {},
     "output_type": "execute_result"
    }
   ],
   "source": [
    "dict_Pop"
   ]
  },
  {
   "cell_type": "code",
   "execution_count": 32,
   "id": "fff7518f-4825-4a10-8271-09d762b07fde",
   "metadata": {},
   "outputs": [],
   "source": [
    "dict_Area = {'Indonesia': 1.9047e6, \n",
    "        'United States':9.8335e6, \n",
    "        'Japan':377.975e3\n",
    "}"
   ]
  },
  {
   "cell_type": "code",
   "execution_count": 33,
   "id": "8b703e91-52dc-489e-a344-e68c93b2e403",
   "metadata": {},
   "outputs": [
    {
     "data": {
      "text/plain": [
       "{'Indonesia': 1904700.0, 'United States': 9833500.0, 'Japan': 377975.0}"
      ]
     },
     "execution_count": 33,
     "metadata": {},
     "output_type": "execute_result"
    }
   ],
   "source": [
    "dict_Area"
   ]
  },
  {
   "cell_type": "code",
   "execution_count": 34,
   "id": "50c535a4-1376-45f8-a256-7edea6ce7997",
   "metadata": {},
   "outputs": [],
   "source": [
    "# transform dict to series\n",
    "Population = pd.Series(dict_Pop)"
   ]
  },
  {
   "cell_type": "code",
   "execution_count": 35,
   "id": "72bc2f28-2b4a-4e72-a226-a789c8df5689",
   "metadata": {},
   "outputs": [
    {
     "data": {
      "text/plain": [
       "Indonesia        273523000.0\n",
       "United States    332905000.0\n",
       "Japan            125833000.0\n",
       "dtype: float64"
      ]
     },
     "execution_count": 35,
     "metadata": {},
     "output_type": "execute_result"
    }
   ],
   "source": [
    "Population"
   ]
  },
  {
   "cell_type": "code",
   "execution_count": 36,
   "id": "1a914837-4dc1-47b2-9f83-511bc9dca9b2",
   "metadata": {},
   "outputs": [],
   "source": [
    "# transform dict to series\n",
    "Area = pd.Series(dict_Area)"
   ]
  },
  {
   "cell_type": "code",
   "execution_count": 37,
   "id": "0ad5eee7-3a7a-4b26-9c9e-43c56e077644",
   "metadata": {},
   "outputs": [
    {
     "data": {
      "text/plain": [
       "Indonesia        1904700.0\n",
       "United States    9833500.0\n",
       "Japan             377975.0\n",
       "dtype: float64"
      ]
     },
     "execution_count": 37,
     "metadata": {},
     "output_type": "execute_result"
    }
   ],
   "source": [
    "Area "
   ]
  },
  {
   "cell_type": "code",
   "execution_count": 38,
   "id": "2ce3618d-432c-4443-b92f-826ef9db877f",
   "metadata": {},
   "outputs": [],
   "source": [
    "Country = pd.DataFrame({'Population':Population, 'Area':Area})"
   ]
  },
  {
   "cell_type": "code",
   "execution_count": 39,
   "id": "3f667ccd-5584-4754-ad93-264563cabfec",
   "metadata": {},
   "outputs": [
    {
     "data": {
      "text/html": [
       "<div>\n",
       "<style scoped>\n",
       "    .dataframe tbody tr th:only-of-type {\n",
       "        vertical-align: middle;\n",
       "    }\n",
       "\n",
       "    .dataframe tbody tr th {\n",
       "        vertical-align: top;\n",
       "    }\n",
       "\n",
       "    .dataframe thead th {\n",
       "        text-align: right;\n",
       "    }\n",
       "</style>\n",
       "<table border=\"1\" class=\"dataframe\">\n",
       "  <thead>\n",
       "    <tr style=\"text-align: right;\">\n",
       "      <th></th>\n",
       "      <th>Population</th>\n",
       "      <th>Area</th>\n",
       "    </tr>\n",
       "  </thead>\n",
       "  <tbody>\n",
       "    <tr>\n",
       "      <th>Indonesia</th>\n",
       "      <td>273523000.0</td>\n",
       "      <td>1904700.0</td>\n",
       "    </tr>\n",
       "    <tr>\n",
       "      <th>United States</th>\n",
       "      <td>332905000.0</td>\n",
       "      <td>9833500.0</td>\n",
       "    </tr>\n",
       "    <tr>\n",
       "      <th>Japan</th>\n",
       "      <td>125833000.0</td>\n",
       "      <td>377975.0</td>\n",
       "    </tr>\n",
       "  </tbody>\n",
       "</table>\n",
       "</div>"
      ],
      "text/plain": [
       "                Population       Area\n",
       "Indonesia      273523000.0  1904700.0\n",
       "United States  332905000.0  9833500.0\n",
       "Japan          125833000.0   377975.0"
      ]
     },
     "execution_count": 39,
     "metadata": {},
     "output_type": "execute_result"
    }
   ],
   "source": [
    "Country"
   ]
  },
  {
   "cell_type": "code",
   "execution_count": 40,
   "id": "0bb555fa-4014-4718-938b-acbe4cbc74ee",
   "metadata": {},
   "outputs": [
    {
     "data": {
      "text/plain": [
       "Indonesia        273523000.0\n",
       "United States    332905000.0\n",
       "Japan            125833000.0\n",
       "Name: Population, dtype: float64"
      ]
     },
     "execution_count": 40,
     "metadata": {},
     "output_type": "execute_result"
    }
   ],
   "source": [
    "Country ['Population']"
   ]
  },
  {
   "cell_type": "code",
   "execution_count": 41,
   "id": "f5945ec4-1a0b-4aef-9bbf-78278ee0d5bd",
   "metadata": {},
   "outputs": [
    {
     "data": {
      "text/plain": [
       "273523000.0"
      ]
     },
     "execution_count": 41,
     "metadata": {},
     "output_type": "execute_result"
    }
   ],
   "source": [
    "Country ['Population']['Indonesia']"
   ]
  },
  {
   "cell_type": "code",
   "execution_count": 42,
   "id": "6ada73d1-7425-43b6-9610-3ecd61aec727",
   "metadata": {},
   "outputs": [
    {
     "data": {
      "text/plain": [
       "Indonesia        273523000.0\n",
       "United States    332905000.0\n",
       "Japan            125833000.0\n",
       "Name: Population, dtype: float64"
      ]
     },
     "execution_count": 42,
     "metadata": {},
     "output_type": "execute_result"
    }
   ],
   "source": [
    "# call by syntax\n",
    "Country.Population"
   ]
  },
  {
   "cell_type": "code",
   "execution_count": 43,
   "id": "115c9417-d740-483c-a330-8a53e3762718",
   "metadata": {},
   "outputs": [
    {
     "data": {
      "text/plain": [
       "Indonesia        273523000.0\n",
       "United States    332905000.0\n",
       "Japan            125833000.0\n",
       "Name: Population, dtype: float64"
      ]
     },
     "execution_count": 43,
     "metadata": {},
     "output_type": "execute_result"
    }
   ],
   "source": [
    "# call by braket \n",
    "Country['Population']"
   ]
  },
  {
   "cell_type": "code",
   "execution_count": 44,
   "id": "c1b1dc23-f6ee-4d41-882e-4ae00ab9f90f",
   "metadata": {},
   "outputs": [],
   "source": [
    "# Ganti nama column pop menjadi populasi\n",
    "Country = pd.DataFrame({'Total Population':Population, 'Area':Area})"
   ]
  },
  {
   "cell_type": "code",
   "execution_count": 45,
   "id": "f4b726ec-5cd2-4599-bb18-0a3f9ac3d413",
   "metadata": {},
   "outputs": [
    {
     "data": {
      "text/html": [
       "<div>\n",
       "<style scoped>\n",
       "    .dataframe tbody tr th:only-of-type {\n",
       "        vertical-align: middle;\n",
       "    }\n",
       "\n",
       "    .dataframe tbody tr th {\n",
       "        vertical-align: top;\n",
       "    }\n",
       "\n",
       "    .dataframe thead th {\n",
       "        text-align: right;\n",
       "    }\n",
       "</style>\n",
       "<table border=\"1\" class=\"dataframe\">\n",
       "  <thead>\n",
       "    <tr style=\"text-align: right;\">\n",
       "      <th></th>\n",
       "      <th>Total Population</th>\n",
       "      <th>Area</th>\n",
       "    </tr>\n",
       "  </thead>\n",
       "  <tbody>\n",
       "    <tr>\n",
       "      <th>Indonesia</th>\n",
       "      <td>273523000.0</td>\n",
       "      <td>1904700.0</td>\n",
       "    </tr>\n",
       "    <tr>\n",
       "      <th>United States</th>\n",
       "      <td>332905000.0</td>\n",
       "      <td>9833500.0</td>\n",
       "    </tr>\n",
       "    <tr>\n",
       "      <th>Japan</th>\n",
       "      <td>125833000.0</td>\n",
       "      <td>377975.0</td>\n",
       "    </tr>\n",
       "  </tbody>\n",
       "</table>\n",
       "</div>"
      ],
      "text/plain": [
       "               Total Population       Area\n",
       "Indonesia           273523000.0  1904700.0\n",
       "United States       332905000.0  9833500.0\n",
       "Japan               125833000.0   377975.0"
      ]
     },
     "execution_count": 45,
     "metadata": {},
     "output_type": "execute_result"
    }
   ],
   "source": [
    "Country "
   ]
  },
  {
   "cell_type": "code",
   "execution_count": 46,
   "id": "f2934e53-9524-46ad-8fc0-c793aeed6ecf",
   "metadata": {},
   "outputs": [
    {
     "data": {
      "text/plain": [
       "Indonesia        273523000.0\n",
       "United States    332905000.0\n",
       "Japan            125833000.0\n",
       "Name: Total Population, dtype: float64"
      ]
     },
     "execution_count": 46,
     "metadata": {},
     "output_type": "execute_result"
    }
   ],
   "source": [
    "Country['Total Population']"
   ]
  },
  {
   "cell_type": "code",
   "execution_count": 47,
   "id": "9ba015c2-ebac-4ddd-a6f8-4263b78f981a",
   "metadata": {},
   "outputs": [
    {
     "data": {
      "text/plain": [
       "Indonesia        273523000.0\n",
       "United States    332905000.0\n",
       "Name: Total Population, dtype: float64"
      ]
     },
     "execution_count": 47,
     "metadata": {},
     "output_type": "execute_result"
    }
   ],
   "source": [
    "# index eksplisit\n",
    "Country ['Total Population']['Indonesia':'United States']"
   ]
  },
  {
   "cell_type": "code",
   "execution_count": 48,
   "id": "0c73f4cd-1f0d-4132-86c9-682725b5c3c3",
   "metadata": {},
   "outputs": [
    {
     "data": {
      "text/plain": [
       "Indonesia        273523000.0\n",
       "United States    332905000.0\n",
       "Japan            125833000.0\n",
       "Name: Total Population, dtype: float64"
      ]
     },
     "execution_count": 48,
     "metadata": {},
     "output_type": "execute_result"
    }
   ],
   "source": [
    "# index implisit\n",
    "Country ['Total Population'].iloc[0:3]"
   ]
  },
  {
   "cell_type": "code",
   "execution_count": null,
   "id": "66d48afb-3a02-4583-befe-027f8817b66c",
   "metadata": {},
   "outputs": [],
   "source": []
  }
 ],
 "metadata": {
  "kernelspec": {
   "display_name": "Python 3 (ipykernel)",
   "language": "python",
   "name": "python3"
  },
  "language_info": {
   "codemirror_mode": {
    "name": "ipython",
    "version": 3
   },
   "file_extension": ".py",
   "mimetype": "text/x-python",
   "name": "python",
   "nbconvert_exporter": "python",
   "pygments_lexer": "ipython3",
   "version": "3.11.7"
  }
 },
 "nbformat": 4,
 "nbformat_minor": 5
}
