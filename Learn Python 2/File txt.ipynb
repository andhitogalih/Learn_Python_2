{
 "cells": [
  {
   "cell_type": "markdown",
   "id": "4ef38775-caf5-4106-aac0-8fcc2e90d5d1",
   "metadata": {},
   "source": [
    "# Txt File"
   ]
  },
  {
   "cell_type": "markdown",
   "id": "0d830439-61b6-4b17-813d-62ca7fd2e888",
   "metadata": {},
   "source": [
    "For reading text files, we can use the open() function to open the file in read mode and then read its contents using methods like read(), readline(), or readlines()."
   ]
  },
  {
   "cell_type": "markdown",
   "id": "96aaf6c4-9852-48bb-9149-9a50bf5b5152",
   "metadata": {},
   "source": [
    "Then to write data to a text file, we can open the file in write mode using open(), and then use the write() method to write data into the file."
   ]
  },
  {
   "cell_type": "markdown",
   "id": "df67859b-f097-455c-b8fc-d08a15d290c6",
   "metadata": {},
   "source": [
    "## Open a File"
   ]
  },
  {
   "cell_type": "markdown",
   "id": "1513daf6-fb51-4272-875c-82f403941de7",
   "metadata": {},
   "source": [
    "To open a file, we can use the open() function. It takes two arguments: the file path and the mode in which we want to open the file (read mode, write mode, append mode, and so on)."
   ]
  },
  {
   "cell_type": "markdown",
   "id": "d3a0fe4b-aef3-4a90-9126-660ef904cb76",
   "metadata": {},
   "source": [
    "\"\" file = open(\"data.txt\", \"r\") \"\""
   ]
  },
  {
   "cell_type": "markdown",
   "id": "48379c2f-f730-4dd2-b900-86535d3680c8",
   "metadata": {},
   "source": [
    "## Read File Content"
   ]
  },
  {
   "cell_type": "markdown",
   "id": "2334d650-e79f-46ce-bbbf-f478d4b9d1bf",
   "metadata": {},
   "source": [
    "After opening the file, we can read its content using various methods. The most commonly used methods are:"
   ]
  },
  {
   "cell_type": "markdown",
   "id": "ea8496f6-cafb-42a2-8391-d8b0c20df962",
   "metadata": {},
   "source": [
    "* read(): Reads the entire content of the file as a single string.\n",
    "* readline(): Reads a single line from the file.\n",
    "* readlines(): Reads all lines from the file and returns them as a list of strings."
   ]
  },
  {
   "cell_type": "markdown",
   "id": "b3eb1e33-f25c-4bf0-9331-f1e243962847",
   "metadata": {},
   "source": [
    "## Close File"
   ]
  },
  {
   "cell_type": "markdown",
   "id": "536be57e-80a5-43b8-b23a-5d938f5ff9b9",
   "metadata": {},
   "source": [
    "The close() method closes an open file."
   ]
  },
  {
   "cell_type": "markdown",
   "id": "44ac6fde-b4a7-4ba5-9e6b-55892dd1b5f8",
   "metadata": {},
   "source": [
    "## Example"
   ]
  },
  {
   "cell_type": "code",
   "execution_count": 7,
   "id": "cefe5b81-372f-49f3-8e6c-3c4b850b8f33",
   "metadata": {},
   "outputs": [],
   "source": [
    "workFile = open('Sport.txt', 'r')"
   ]
  },
  {
   "cell_type": "code",
   "execution_count": 8,
   "id": "04b0fa60-4138-48bb-93b8-de51f6a08f4d",
   "metadata": {},
   "outputs": [],
   "source": [
    "workFileContents = workFile.read()"
   ]
  },
  {
   "cell_type": "code",
   "execution_count": 9,
   "id": "18060508-ebba-49c7-895f-074389d77a04",
   "metadata": {},
   "outputs": [
    {
     "name": "stdout",
     "output_type": "stream",
     "text": [
      "Sport, Time\n",
      "Badminton, 1\n",
      "Chess,1\n",
      "Voli, 2\n"
     ]
    }
   ],
   "source": [
    "print(workFileContents)"
   ]
  },
  {
   "cell_type": "code",
   "execution_count": 10,
   "id": "22071e79-f690-41e5-98b1-d51f08adbb64",
   "metadata": {},
   "outputs": [],
   "source": [
    "workFile = open('Sport.txt', 'r')"
   ]
  },
  {
   "cell_type": "code",
   "execution_count": 11,
   "id": "1c69799d-21b7-468b-aacb-4b652831bb40",
   "metadata": {},
   "outputs": [],
   "source": [
    "workFileFirstLine = workFile.readline()"
   ]
  },
  {
   "cell_type": "code",
   "execution_count": 12,
   "id": "2813af2b-f73b-41d7-aa70-31242a125826",
   "metadata": {},
   "outputs": [
    {
     "name": "stdout",
     "output_type": "stream",
     "text": [
      "Sport, Time\n",
      "\n"
     ]
    }
   ],
   "source": [
    "print(workFileFirstLine)"
   ]
  },
  {
   "cell_type": "code",
   "execution_count": 13,
   "id": "2b41206d-0086-42d3-87ce-fc9c0c093b05",
   "metadata": {},
   "outputs": [],
   "source": [
    "workFileThirdLine = workFile.readline()"
   ]
  },
  {
   "cell_type": "code",
   "execution_count": 14,
   "id": "eb12808c-fc07-4f93-9e99-dbea0f121929",
   "metadata": {},
   "outputs": [
    {
     "name": "stdout",
     "output_type": "stream",
     "text": [
      "Badminton, 1\n",
      "\n"
     ]
    }
   ],
   "source": [
    "print(workFileThirdLine)"
   ]
  },
  {
   "cell_type": "code",
   "execution_count": 15,
   "id": "5122f40e-f53b-431c-af69-cb2bc6905f50",
   "metadata": {},
   "outputs": [],
   "source": [
    "workFile.close()"
   ]
  },
  {
   "cell_type": "code",
   "execution_count": null,
   "id": "a2fc6519-4766-48ee-a670-e0fdcd76fa67",
   "metadata": {},
   "outputs": [],
   "source": []
  }
 ],
 "metadata": {
  "kernelspec": {
   "display_name": "Python 3 (ipykernel)",
   "language": "python",
   "name": "python3"
  },
  "language_info": {
   "codemirror_mode": {
    "name": "ipython",
    "version": 3
   },
   "file_extension": ".py",
   "mimetype": "text/x-python",
   "name": "python",
   "nbconvert_exporter": "python",
   "pygments_lexer": "ipython3",
   "version": "3.11.7"
  }
 },
 "nbformat": 4,
 "nbformat_minor": 5
}
