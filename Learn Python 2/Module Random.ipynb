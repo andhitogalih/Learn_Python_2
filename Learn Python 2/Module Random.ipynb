{
 "cells": [
  {
   "cell_type": "markdown",
   "id": "fc62af3c-67ae-4b02-b3bf-0121ce8b922b",
   "metadata": {},
   "source": [
    "# Module Random"
   ]
  },
  {
   "cell_type": "markdown",
   "id": "90ef206f-1dc4-40c1-a444-4cd0a5525e67",
   "metadata": {},
   "source": [
    "Python random is a module included in the standard Python library, used to generate pseudo-random numbers."
   ]
  },
  {
   "cell_type": "markdown",
   "id": "b4b8e78b-2bb4-4b96-b05a-a0715b12f7b1",
   "metadata": {},
   "source": [
    "## Random()"
   ]
  },
  {
   "cell_type": "markdown",
   "id": "7f0c158d-7c41-4d1f-8d8e-b276b0e7570a",
   "metadata": {},
   "source": [
    "This function does not require arguments. When called, by default the function will generate a random float number between 0.0 and 1.0. Each time the function is called, it will return a different number."
   ]
  },
  {
   "cell_type": "code",
   "execution_count": 3,
   "id": "916a5a5f-3be4-4f36-ad42-9272e89b4a50",
   "metadata": {},
   "outputs": [
    {
     "name": "stdout",
     "output_type": "stream",
     "text": [
      "0.14418527860975172\n"
     ]
    }
   ],
   "source": [
    "import random\n",
    "print(random.random())\n",
    "# Output: Random float number, for example 0.14418527860975172"
   ]
  },
  {
   "cell_type": "code",
   "execution_count": 7,
   "id": "9382ada4-8548-4fde-a06c-de7ce417ff4b",
   "metadata": {},
   "outputs": [
    {
     "name": "stdout",
     "output_type": "stream",
     "text": [
      "[7, 5, 10]\n"
     ]
    }
   ],
   "source": [
    "population = [1, 2, 3, 4, 5, 6, 7, 8, 9, 10]\n",
    "k = 3\n",
    "\n",
    "# Takes 3 random elements from the population\n",
    "sample = random.sample(population, k)\n",
    "print(sample)"
   ]
  },
  {
   "cell_type": "markdown",
   "id": "32fabc62-9bd0-431b-8fa8-33ff0d003af3",
   "metadata": {},
   "source": [
    "## Randint(a, b)"
   ]
  },
  {
   "cell_type": "markdown",
   "id": "6eeb7557-54ec-4631-a923-b3fbf41ce4f0",
   "metadata": {},
   "source": [
    "The randint(a,b) function accepts two arguments (a and b), which are the lower and upper bounds for the number to be returned. This function will return a random integer that falls within that range, including both limits."
   ]
  },
  {
   "cell_type": "code",
   "execution_count": 1,
   "id": "ab05ffd4-d6ed-40cb-84a4-a9d7b33aae1e",
   "metadata": {},
   "outputs": [],
   "source": [
    "from random import randint"
   ]
  },
  {
   "cell_type": "code",
   "execution_count": 4,
   "id": "fd168305-2f94-470a-84ad-c9b728f3981b",
   "metadata": {},
   "outputs": [
    {
     "name": "stdout",
     "output_type": "stream",
     "text": [
      "2\n"
     ]
    }
   ],
   "source": [
    "import random\n",
    "print(random.randint(1, 10))\n",
    "# Output: Angka integer acak antara 1 dan 10"
   ]
  },
  {
   "cell_type": "markdown",
   "id": "1793c690-b930-4164-a21d-02bc4850ab9d",
   "metadata": {},
   "source": [
    "The randint function needs to be imported from the random module before you can use it."
   ]
  },
  {
   "cell_type": "markdown",
   "id": "9e7629ab-0aad-479a-901b-1b1d4a360024",
   "metadata": {},
   "source": [
    "The code you’ve provided is a Python loop that prints out a statement 10 times, each with a different random number between 1 and 10. However, there’s a small mistake in the code. "
   ]
  },
  {
   "cell_type": "code",
   "execution_count": 5,
   "id": "4434104a-afc7-4c21-8a5d-a715ca40882a",
   "metadata": {},
   "outputs": [
    {
     "name": "stdout",
     "output_type": "stream",
     "text": [
      "Random num 0 is 10\n",
      "Random num 1 is 2\n",
      "Random num 2 is 3\n",
      "Random num 3 is 7\n",
      "Random num 4 is 9\n",
      "Random num 5 is 4\n",
      "Random num 6 is 9\n",
      "Random num 7 is 3\n",
      "Random num 8 is 6\n",
      "Random num 9 is 2\n"
     ]
    }
   ],
   "source": [
    "for i in range(10):\n",
    "    print(f\"Random num {i} is {randint(1,10)}\")"
   ]
  },
  {
   "cell_type": "code",
   "execution_count": 6,
   "id": "f8dcf85d-a586-4523-9c80-6e4555fa764b",
   "metadata": {},
   "outputs": [
    {
     "name": "stdout",
     "output_type": "stream",
     "text": [
      "Random num 0 is 8\n",
      "Random num 1 is 5\n",
      "Random num 2 is 9\n",
      "Random num 3 is 5\n",
      "Random num 4 is 3\n",
      "Random num 5 is 9\n",
      "Random num 6 is 5\n",
      "Random num 7 is 7\n",
      "Random num 8 is 1\n",
      "Random num 9 is 2\n"
     ]
    }
   ],
   "source": [
    "for i in range(10):\n",
    "    print(f\"Random num {i} is {randint(1,10)}\")"
   ]
  },
  {
   "cell_type": "code",
   "execution_count": null,
   "id": "11537dcb-3751-46c3-8b24-4d214484f47b",
   "metadata": {},
   "outputs": [],
   "source": []
  }
 ],
 "metadata": {
  "kernelspec": {
   "display_name": "Python 3 (ipykernel)",
   "language": "python",
   "name": "python3"
  },
  "language_info": {
   "codemirror_mode": {
    "name": "ipython",
    "version": 3
   },
   "file_extension": ".py",
   "mimetype": "text/x-python",
   "name": "python",
   "nbconvert_exporter": "python",
   "pygments_lexer": "ipython3",
   "version": "3.11.7"
  }
 },
 "nbformat": 4,
 "nbformat_minor": 5
}
