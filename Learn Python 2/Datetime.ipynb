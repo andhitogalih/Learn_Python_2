{
 "cells": [
  {
   "cell_type": "markdown",
   "id": "d24ddeea-984c-4b95-9e12-72861800a295",
   "metadata": {},
   "source": [
    "# DateTime"
   ]
  },
  {
   "cell_type": "markdown",
   "id": "3a52e7d8-e4ec-4eeb-837e-ea1c6af1fe47",
   "metadata": {},
   "source": [
    "In Python, date and time are not data types of their own, but a module named DateTime in Python can be imported to work with the date as well as time."
   ]
  },
  {
   "cell_type": "markdown",
   "id": "30c20ac7-cb13-4c37-9419-f7e9f2989447",
   "metadata": {},
   "source": [
    "* date – An idealized naive date, assuming the current Gregorian calendar always was, and always will be, in effect. Its attributes are year, month, and day.\n",
    "* time – An idealized time, independent of any particular day, assuming that every day has exactly 24*60*60 seconds.\n",
    "* date-time – It is a combination of date and time along with the attributes year, month, day, hour, minute, second, microsecond."
   ]
  },
  {
   "cell_type": "markdown",
   "id": "f55a0742-a38e-4d43-a92c-e6bdd4d64be7",
   "metadata": {},
   "source": [
    "## DateTime"
   ]
  },
  {
   "cell_type": "code",
   "execution_count": 1,
   "id": "1eb52770-f2b9-42d3-8595-452805d247b8",
   "metadata": {},
   "outputs": [],
   "source": [
    "import datetime"
   ]
  },
  {
   "cell_type": "code",
   "execution_count": 2,
   "id": "4ab7c1fb-5622-4d06-8b54-2652a1911f3a",
   "metadata": {},
   "outputs": [],
   "source": [
    "todayWithTime = datetime.datetime.today()"
   ]
  },
  {
   "cell_type": "code",
   "execution_count": 3,
   "id": "22052555-c0d1-47d9-9f10-950b3197668c",
   "metadata": {},
   "outputs": [
    {
     "data": {
      "text/plain": [
       "datetime.datetime(2024, 4, 19, 15, 18, 38, 197023)"
      ]
     },
     "execution_count": 3,
     "metadata": {},
     "output_type": "execute_result"
    }
   ],
   "source": [
    "todayWithTime"
   ]
  },
  {
   "cell_type": "code",
   "execution_count": 4,
   "id": "f4c2df54-1c7f-44bc-8c60-af4cf0459e27",
   "metadata": {},
   "outputs": [
    {
     "data": {
      "text/plain": [
       "datetime.date(2024, 4, 19)"
      ]
     },
     "execution_count": 4,
     "metadata": {},
     "output_type": "execute_result"
    }
   ],
   "source": [
    "todayWithoutTime = datetime.date.today()\n",
    "\n",
    "todayWithoutTime"
   ]
  },
  {
   "cell_type": "markdown",
   "id": "16f73449-7c40-489f-8247-64e35906a01d",
   "metadata": {},
   "source": [
    "## Formatting"
   ]
  },
  {
   "cell_type": "code",
   "execution_count": 5,
   "id": "b2aeb6d3-a1c8-442b-9dbe-6fac2532ba6b",
   "metadata": {},
   "outputs": [],
   "source": [
    "formatting_time = datetime.datetime.strftime(todayWithTime, \"%H: %M :%S\")"
   ]
  },
  {
   "cell_type": "code",
   "execution_count": 6,
   "id": "8a1ae6f4-eb32-40a7-b31f-587f52c6d9ad",
   "metadata": {},
   "outputs": [
    {
     "data": {
      "text/plain": [
       "'15: 18 :38'"
      ]
     },
     "execution_count": 6,
     "metadata": {},
     "output_type": "execute_result"
    }
   ],
   "source": [
    "formatting_time"
   ]
  },
  {
   "cell_type": "code",
   "execution_count": 7,
   "id": "5cb75db6-9c0d-48ee-ae1a-390923b420fa",
   "metadata": {},
   "outputs": [],
   "source": [
    "formatting_time = datetime.datetime.strftime(todayWithTime, \"%m/%d/%y\")"
   ]
  },
  {
   "cell_type": "code",
   "execution_count": 8,
   "id": "cdba09d3-94ca-4f00-a689-bf2d6a7abcd4",
   "metadata": {},
   "outputs": [
    {
     "data": {
      "text/plain": [
       "'04/19/24'"
      ]
     },
     "execution_count": 8,
     "metadata": {},
     "output_type": "execute_result"
    }
   ],
   "source": [
    "formatting_time"
   ]
  },
  {
   "cell_type": "code",
   "execution_count": 9,
   "id": "33b933a7-8067-4480-a209-139a38a11a8a",
   "metadata": {},
   "outputs": [
    {
     "name": "stdout",
     "output_type": "stream",
     "text": [
      "Tanggal dan waktu dalam format: 2024-04-19 15:20:40\n"
     ]
    }
   ],
   "source": [
    "from datetime import datetime\n",
    "\n",
    "# Mendapatkan tanggal dan waktu saat ini\n",
    "now = datetime.now()\n",
    "\n",
    "# Mengubah format tanggal dan waktu\n",
    "formatted_date = now.strftime(\"%Y-%m-%d %H:%M:%S\")\n",
    "print(\"Tanggal dan waktu dalam format:\", formatted_date)"
   ]
  },
  {
   "cell_type": "code",
   "execution_count": null,
   "id": "2c2cf839-5d5d-4fb2-a079-b2f4ecb592c6",
   "metadata": {},
   "outputs": [],
   "source": []
  }
 ],
 "metadata": {
  "kernelspec": {
   "display_name": "Python 3 (ipykernel)",
   "language": "python",
   "name": "python3"
  },
  "language_info": {
   "codemirror_mode": {
    "name": "ipython",
    "version": 3
   },
   "file_extension": ".py",
   "mimetype": "text/x-python",
   "name": "python",
   "nbconvert_exporter": "python",
   "pygments_lexer": "ipython3",
   "version": "3.11.7"
  }
 },
 "nbformat": 4,
 "nbformat_minor": 5
}
