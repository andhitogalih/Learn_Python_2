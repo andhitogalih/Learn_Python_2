{
 "cells": [
  {
   "cell_type": "markdown",
   "id": "3e5debfc-9bd5-4fd8-b97c-615ef2c27768",
   "metadata": {},
   "source": [
    "# Function"
   ]
  },
  {
   "cell_type": "markdown",
   "id": "7beb1d6f-3876-467a-80b9-c28968292181",
   "metadata": {},
   "source": [
    "* An input to output mapping procedure is known as a function in mathematics. Functions are used in Python to arrange code for reusability and to accomplish a comparable function.\n",
    "* A defined purpose and reusability should be the ideal characteristics of Python functions.Although Python comes with many built-in functions, programmers have the ability to construct their own unique functions.\n"
   ]
  },
  {
   "cell_type": "markdown",
   "id": "018fae57-1105-4276-abe8-cc9b76aab361",
   "metadata": {},
   "source": [
    "In Python, a function is a block of reusable code that performs a specific task. Functions allow you to break down your program into smaller, manageable pieces, making your code more modular, readable, and easier to maintain.\n",
    " "
   ]
  },
  {
   "cell_type": "code",
   "execution_count": 3,
   "id": "581916da-e53f-401f-9be0-37507919db3e",
   "metadata": {},
   "outputs": [],
   "source": [
    "def pangkat(x) :\n",
    "    kuadrat = x**2\n",
    "    return kuadrat"
   ]
  },
  {
   "cell_type": "code",
   "execution_count": 4,
   "id": "2e79cb73-956a-4526-a1b5-1f393aba6fb9",
   "metadata": {},
   "outputs": [
    {
     "data": {
      "text/plain": [
       "25"
      ]
     },
     "execution_count": 4,
     "metadata": {},
     "output_type": "execute_result"
    }
   ],
   "source": [
    "pangkat(5)"
   ]
  },
  {
   "cell_type": "code",
   "execution_count": 5,
   "id": "fe179012-82f5-4bdd-acc7-c2503be58a4a",
   "metadata": {},
   "outputs": [
    {
     "data": {
      "text/plain": [
       "9"
      ]
     },
     "execution_count": 5,
     "metadata": {},
     "output_type": "execute_result"
    }
   ],
   "source": [
    "pangkat(3)"
   ]
  },
  {
   "cell_type": "code",
   "execution_count": 6,
   "id": "f43fb361-a99b-44f1-a7d4-8d2ca50b09ac",
   "metadata": {},
   "outputs": [],
   "source": [
    "def pangkat_tiga(x) :\n",
    "    kubik = x**3\n",
    "    return kubik"
   ]
  },
  {
   "cell_type": "code",
   "execution_count": 7,
   "id": "0023735f-3503-430d-b743-c6326fb0d338",
   "metadata": {},
   "outputs": [
    {
     "data": {
      "text/plain": [
       "8"
      ]
     },
     "execution_count": 7,
     "metadata": {},
     "output_type": "execute_result"
    }
   ],
   "source": [
    "pangkat_tiga(2)"
   ]
  },
  {
   "cell_type": "markdown",
   "id": "6ac52b14-1e57-44b2-9494-f1b3aed282d0",
   "metadata": {},
   "source": [
    "## Return"
   ]
  },
  {
   "cell_type": "markdown",
   "id": "64e3f57e-364b-4a34-a95c-ee284192f79e",
   "metadata": {},
   "source": [
    "In Python, the return statement is used within a function to exit the function and return a value or an expression to the caller. When a return statement is encountered in a function, the function's execution is terminated immediately, and control is passed back to the point where the function was called from. "
   ]
  },
  {
   "cell_type": "code",
   "execution_count": 1,
   "id": "42c070b6-c885-40de-8e5e-bb69045eba90",
   "metadata": {},
   "outputs": [],
   "source": [
    "def triangle(a,b,c):\n",
    "    area = 0.5*a*b\n",
    "    parameter = a + b +c\n",
    "    return parameter"
   ]
  },
  {
   "cell_type": "code",
   "execution_count": 2,
   "id": "27c59b85-28fa-464c-bc2c-a81d88d167eb",
   "metadata": {},
   "outputs": [],
   "source": [
    "a = 8\n",
    "b = 10\n",
    "c = 15"
   ]
  },
  {
   "cell_type": "code",
   "execution_count": 3,
   "id": "55c1b616-26c4-41dd-ba03-6c460aac75fe",
   "metadata": {},
   "outputs": [
    {
     "name": "stdout",
     "output_type": "stream",
     "text": [
      "Parameter 33\n"
     ]
    }
   ],
   "source": [
    "print(\"Parameter\", triangle(a,b,c))"
   ]
  },
  {
   "cell_type": "markdown",
   "id": "a4297c0f-30e4-44e9-9cc5-da37626b628a",
   "metadata": {},
   "source": [
    "## Modify"
   ]
  },
  {
   "cell_type": "markdown",
   "id": "68715436-9279-4349-8da3-721970e70e7a",
   "metadata": {},
   "source": [
    "To modify a list within a function in Python, you can pass the list as an argument to the function and make changes to it directly within the function. Since lists are mutable objects in Python, any modifications made to the list inside the function will affect the original list."
   ]
  },
  {
   "cell_type": "code",
   "execution_count": 4,
   "id": "3a7cbb23-1215-4bee-aea6-7e6641845849",
   "metadata": {},
   "outputs": [],
   "source": [
    "def modify_list(input_list):\n",
    "    input_list.append([123, 145])\n",
    "    print(\"Values within the function are{}\".format(input_list))"
   ]
  },
  {
   "cell_type": "code",
   "execution_count": 5,
   "id": "de8a9711-b758-4491-8d86-62bdcd1a4c05",
   "metadata": {},
   "outputs": [
    {
     "name": "stdout",
     "output_type": "stream",
     "text": [
      "Values within the function are[123, [123, 145]]\n"
     ]
    }
   ],
   "source": [
    "modify_list([123])"
   ]
  },
  {
   "cell_type": "code",
   "execution_count": 6,
   "id": "892a6098-dbfe-4914-be58-7aad25f471f1",
   "metadata": {},
   "outputs": [
    {
     "name": "stdout",
     "output_type": "stream",
     "text": [
      "Values within the function are[120, [123, 145]]\n"
     ]
    }
   ],
   "source": [
    "modify_list([120])"
   ]
  },
  {
   "cell_type": "code",
   "execution_count": 9,
   "id": "0a02834c-06fc-47f9-b594-810ab2222f5c",
   "metadata": {},
   "outputs": [
    {
     "name": "stdout",
     "output_type": "stream",
     "text": [
      "Values within the function are[110, [123, 145]]\n",
      "Values within the function are[110, [123, 145]]\n"
     ]
    }
   ],
   "source": [
    "input_list = ([110])\n",
    "modify_list(input_list)\n",
    "print(\"Values within the function are{}\".format(input_list))"
   ]
  },
  {
   "cell_type": "markdown",
   "id": "e82e968c-e5b4-49ca-8533-c95e01aadfe7",
   "metadata": {},
   "source": [
    "## Create a function (parameters are changed and parameters are assigned"
   ]
  },
  {
   "cell_type": "markdown",
   "id": "aeb98fd8-14c4-412c-9fdc-33a5ca562cac",
   "metadata": {},
   "source": [
    "This code snippet first initializes a list value_list with a single element 75, then calls the modify_values function with value_list as an argument. After the function call, it prints the modified value_list to see the changes made within the function."
   ]
  },
  {
   "cell_type": "code",
   "execution_count": 10,
   "id": "af614995-8663-4c5a-86e7-0de4586f937e",
   "metadata": {},
   "outputs": [
    {
     "name": "stdout",
     "output_type": "stream",
     "text": [
      "Values within the function are[75, [123, 145]]\n",
      "Values within the function are[75, [123, 145]]\n"
     ]
    }
   ],
   "source": [
    "input_list = [75]\n",
    "modify_list(input_list)\n",
    "print(\"Values within the function are{}\".format(input_list))"
   ]
  },
  {
   "cell_type": "code",
   "execution_count": null,
   "id": "69cbf6ac-1a4b-409e-a5bc-d66010169cdf",
   "metadata": {},
   "outputs": [],
   "source": []
  }
 ],
 "metadata": {
  "kernelspec": {
   "display_name": "Python 3 (ipykernel)",
   "language": "python",
   "name": "python3"
  },
  "language_info": {
   "codemirror_mode": {
    "name": "ipython",
    "version": 3
   },
   "file_extension": ".py",
   "mimetype": "text/x-python",
   "name": "python",
   "nbconvert_exporter": "python",
   "pygments_lexer": "ipython3",
   "version": "3.11.7"
  }
 },
 "nbformat": 4,
 "nbformat_minor": 5
}
