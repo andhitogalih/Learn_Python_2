{
 "cells": [
  {
   "cell_type": "markdown",
   "id": "720f4518-31c4-41f2-8563-66b1490d8ff6",
   "metadata": {},
   "source": [
    "# Numpy"
   ]
  },
  {
   "cell_type": "markdown",
   "id": "96b06ffb-65fe-4358-b10e-ab906460b5cf",
   "metadata": {},
   "source": [
    "NumPy (Numerical Python) is a Python library that focuses on scientific computing. NumPy has the ability to create N-dimensional array objects, which are similar to lists in Python. The advantage of NumPy arrays compared to lists in Python is that they consume less memory and run time faster. NumPy also makes it easier for us in Linear Algebra, especially operations on Vectors (1-d arrays) and Matrix (2-d arrays)."
   ]
  },
  {
   "cell_type": "markdown",
   "id": "2289ca75-3b81-4eb3-a400-a42a8fd06c5f",
   "metadata": {},
   "source": [
    "## Install Numpy"
   ]
  },
  {
   "cell_type": "code",
   "execution_count": 1,
   "id": "56de3289-21de-418d-84c9-130f8a53e784",
   "metadata": {},
   "outputs": [
    {
     "name": "stdout",
     "output_type": "stream",
     "text": [
      "Requirement already satisfied: numpy in d:\\anaconda\\lib\\site-packages (1.26.4)\n",
      "Note: you may need to restart the kernel to use updated packages.\n"
     ]
    }
   ],
   "source": [
    "pip install numpy"
   ]
  },
  {
   "cell_type": "markdown",
   "id": "5069288e-c0f8-4929-a61b-d2803248017e",
   "metadata": {},
   "source": [
    "## Impor library NumPy"
   ]
  },
  {
   "cell_type": "code",
   "execution_count": 2,
   "id": "8146d62e-4f8a-4a29-bcdb-7dcd70238a31",
   "metadata": {},
   "outputs": [],
   "source": [
    "import numpy as np"
   ]
  },
  {
   "cell_type": "markdown",
   "id": "3ba2f0e8-fc55-4f7a-b524-8c3c2b829ca6",
   "metadata": {},
   "source": [
    "## Creating a Numpy array"
   ]
  },
  {
   "cell_type": "markdown",
   "id": "5e77235a-116e-4bc9-b313-4c0443a9f9bd",
   "metadata": {},
   "source": [
    "For example, you have the following list:"
   ]
  },
  {
   "cell_type": "code",
   "execution_count": 3,
   "id": "e6ae8adb-c0b1-4670-a37e-ef389024b39d",
   "metadata": {},
   "outputs": [],
   "source": [
    "list_angka = [1, 2, 3, 4, 5]"
   ]
  },
  {
   "cell_type": "markdown",
   "id": "5e9aad93-3103-4179-81de-c1f7704c0646",
   "metadata": {},
   "source": [
    "To convert the list above into a NumPy array, you can use the array() function:"
   ]
  },
  {
   "cell_type": "code",
   "execution_count": 4,
   "id": "8e1dc301-cdcf-4201-90c2-f11c036a58af",
   "metadata": {},
   "outputs": [
    {
     "name": "stdout",
     "output_type": "stream",
     "text": [
      "[1 2 3 4 5]\n"
     ]
    }
   ],
   "source": [
    "import numpy as np\n",
    "\n",
    "arr_angka = np.array(list_angka)\n",
    "print(arr_angka)  # Output: [1 2 3 4 5]"
   ]
  },
  {
   "cell_type": "markdown",
   "id": "25c495f7-74dc-40d1-81f8-e831450eb763",
   "metadata": {},
   "source": [
    "## Creating a Numpy tuple"
   ]
  },
  {
   "cell_type": "markdown",
   "id": "668c5efe-d356-4e5e-b498-05a6507a4824",
   "metadata": {},
   "source": [
    "Just like lists, tuples can also be converted into NumPy arrays. For example, you have the following tuple:"
   ]
  },
  {
   "cell_type": "code",
   "execution_count": 5,
   "id": "ba1a7d7f-dadb-447d-bc36-da9c37adf31c",
   "metadata": {},
   "outputs": [],
   "source": [
    "tuple_angka = (6, 7, 8, 9, 10)"
   ]
  },
  {
   "cell_type": "markdown",
   "id": "5c72149d-feb4-496d-9993-4bbcfca2d19a",
   "metadata": {},
   "source": [
    "Converting a tuple to a NumPy array is done in the same way as a list:"
   ]
  },
  {
   "cell_type": "code",
   "execution_count": 6,
   "id": "1e164e19-fce6-4764-a378-13337fe4db00",
   "metadata": {},
   "outputs": [
    {
     "name": "stdout",
     "output_type": "stream",
     "text": [
      "[ 6  7  8  9 10]\n"
     ]
    }
   ],
   "source": [
    "arr_tuple = np.array(tuple_angka)\n",
    "print(arr_tuple)  # Output: [ 6  7  8  9 10]"
   ]
  },
  {
   "cell_type": "code",
   "execution_count": 7,
   "id": "47e6667d-44aa-44e8-a1d8-adb79dd95479",
   "metadata": {},
   "outputs": [
    {
     "name": "stdout",
     "output_type": "stream",
     "text": [
      "<class 'numpy.ndarray'>\n"
     ]
    }
   ],
   "source": [
    "# Cek datatype\n",
    "print(type(arr_tuple))"
   ]
  },
  {
   "cell_type": "markdown",
   "id": "f8b32d54-eacd-4698-9d3f-cef49f4e27d8",
   "metadata": {},
   "source": [
    "## Dimmension in Arrays"
   ]
  },
  {
   "cell_type": "markdown",
   "id": "056d0bdd-e6fe-4ed6-99c3-c0fa4a3bc1be",
   "metadata": {},
   "source": [
    "### 0-D Arrays"
   ]
  },
  {
   "cell_type": "code",
   "execution_count": 8,
   "id": "9d7e8d5d-e70c-4fc6-9e96-00a75125e69b",
   "metadata": {},
   "outputs": [
    {
     "name": "stdout",
     "output_type": "stream",
     "text": [
      "42\n"
     ]
    }
   ],
   "source": [
    "arr = np.array(42)\n",
    "\n",
    "print(arr)"
   ]
  },
  {
   "cell_type": "markdown",
   "id": "802644a9-1d42-4ee3-b5ce-12e0a3a57b25",
   "metadata": {},
   "source": [
    "### 1-D Arrays"
   ]
  },
  {
   "cell_type": "code",
   "execution_count": 9,
   "id": "a111a813-62f4-4601-9a43-9edcf8a572e9",
   "metadata": {},
   "outputs": [
    {
     "name": "stdout",
     "output_type": "stream",
     "text": [
      "[1 2 3 4 5]\n"
     ]
    }
   ],
   "source": [
    "import numpy as np\n",
    "\n",
    "arr = np.array([1,2,3,4,5])\n",
    "\n",
    "print(arr)"
   ]
  },
  {
   "cell_type": "markdown",
   "id": "e397b094-7fb7-4425-9b7e-5cb4ddca3a55",
   "metadata": {},
   "source": [
    "### 2-D Arrays"
   ]
  },
  {
   "cell_type": "code",
   "execution_count": 10,
   "id": "99d44e38-f1f9-4050-a4c9-c4b2d42b5a87",
   "metadata": {},
   "outputs": [
    {
     "name": "stdout",
     "output_type": "stream",
     "text": [
      "[[1 2 3]\n",
      " [4 5 6]]\n"
     ]
    }
   ],
   "source": [
    "arr = np.array([[1,2,3], [4,5,6]])\n",
    "\n",
    "print(arr)"
   ]
  },
  {
   "cell_type": "markdown",
   "id": "ba256239-c307-4f58-b04a-0ca1eb64b2c1",
   "metadata": {},
   "source": [
    "### 3-D Arrays"
   ]
  },
  {
   "cell_type": "code",
   "execution_count": 11,
   "id": "ccf3e7ab-d4f0-4cd0-9937-741f4c23d051",
   "metadata": {},
   "outputs": [
    {
     "name": "stdout",
     "output_type": "stream",
     "text": [
      "[[[11 22 33]\n",
      "  [44 55 66]]\n",
      "\n",
      " [[ 1  2  3]\n",
      "  [ 4  5  6]]]\n"
     ]
    }
   ],
   "source": [
    "arr = np.array([[[11,22,33], [44,55,66]], [[1,2,3], [4,5,6]]])\n",
    "\n",
    "print(arr)"
   ]
  },
  {
   "cell_type": "markdown",
   "id": "e3f8ec89-2458-45d1-943f-20dd3022a995",
   "metadata": {},
   "source": [
    "### Check how many dimention the arrays have"
   ]
  },
  {
   "cell_type": "code",
   "execution_count": 12,
   "id": "720516da-5701-448a-8ab4-31dd673f0fd6",
   "metadata": {},
   "outputs": [
    {
     "name": "stdout",
     "output_type": "stream",
     "text": [
      "0\n",
      "1\n",
      "2\n",
      "3\n"
     ]
    }
   ],
   "source": [
    "a = np.array(3)\n",
    "b = np.array([5,6,7])\n",
    "c = np.array([[1,2,3], [4,5,6]])\n",
    "d = np.array([[[1,2,3],[4,5,6]],[[1,2,3],[4,5,6]]])\n",
    "\n",
    "print(a.ndim)\n",
    "print(b.ndim)\n",
    "print(c.ndim)\n",
    "print(d.ndim)"
   ]
  },
  {
   "cell_type": "markdown",
   "id": "fb56a164-1a67-48c4-9fcb-3daff68430d3",
   "metadata": {},
   "source": [
    "### Create an array with 5 dimensions and verify that it has 5 dimensions"
   ]
  },
  {
   "cell_type": "code",
   "execution_count": 16,
   "id": "425fac16-36c9-4147-a31f-ccea05d6c41f",
   "metadata": {},
   "outputs": [
    {
     "name": "stdout",
     "output_type": "stream",
     "text": [
      "[[[[[1 2 3 4 5]]]]]\n"
     ]
    }
   ],
   "source": [
    "arr_1 = np.array([1,2,3,4,5], ndmin=5)\n",
    "\n",
    "print(arr_1)"
   ]
  },
  {
   "cell_type": "code",
   "execution_count": 17,
   "id": "4d650724-33f0-4593-a92f-9b2ff99aa39a",
   "metadata": {},
   "outputs": [
    {
     "name": "stdout",
     "output_type": "stream",
     "text": [
      "Number of dimention : 5\n"
     ]
    }
   ],
   "source": [
    "print('Number of dimention :', arr_1.ndim)"
   ]
  },
  {
   "cell_type": "markdown",
   "id": "86f069eb-90ef-45f2-8405-ce5ad3dc1a05",
   "metadata": {},
   "source": [
    "## Get the first element from the following array"
   ]
  },
  {
   "cell_type": "code",
   "execution_count": 18,
   "id": "9f84e72f-c159-4a31-a1fc-858c30367b76",
   "metadata": {},
   "outputs": [
    {
     "name": "stdout",
     "output_type": "stream",
     "text": [
      "6\n"
     ]
    }
   ],
   "source": [
    "import numpy as np\n",
    "\n",
    "arr = np.array([6,7,8])\n",
    "\n",
    "print(arr[0])"
   ]
  },
  {
   "cell_type": "markdown",
   "id": "1e10db37-da64-4b01-a7c4-ce2da05509f3",
   "metadata": {},
   "source": [
    "## Get the second element from the following array"
   ]
  },
  {
   "cell_type": "code",
   "execution_count": 19,
   "id": "da64d6bb-c3ca-46c8-9443-5017a5c60f1a",
   "metadata": {},
   "outputs": [
    {
     "name": "stdout",
     "output_type": "stream",
     "text": [
      "7\n"
     ]
    }
   ],
   "source": [
    "import numpy as np\n",
    "\n",
    "arr = np.array([6,7,8])\n",
    "\n",
    "print(arr[1])"
   ]
  },
  {
   "cell_type": "markdown",
   "id": "fba43ac3-a096-49fb-87aa-ff38b36ee58f",
   "metadata": {},
   "source": [
    "## Get third and fourth elements and add them"
   ]
  },
  {
   "cell_type": "code",
   "execution_count": 21,
   "id": "e13bfb8e-415d-4c43-931b-7df15492116a",
   "metadata": {},
   "outputs": [
    {
     "name": "stdout",
     "output_type": "stream",
     "text": [
      "7\n"
     ]
    }
   ],
   "source": [
    "arr = np.array([1,2,3,4])\n",
    "\n",
    "print(arr[2] + arr[3])"
   ]
  },
  {
   "cell_type": "markdown",
   "id": "32b5d500-47ab-4c6c-b3ab-bc7bc0c42d23",
   "metadata": {},
   "source": [
    "## Access the element on the first row, second column"
   ]
  },
  {
   "cell_type": "code",
   "execution_count": 22,
   "id": "6a934aaa-430d-4d90-952b-5b2b69d3fe73",
   "metadata": {},
   "outputs": [
    {
     "name": "stdout",
     "output_type": "stream",
     "text": [
      "2nd element on 1st row:  b\n"
     ]
    }
   ],
   "source": [
    "arr = np.array([['a','b','c'], ['d','e','f']])\n",
    "\n",
    "print('2nd element on 1st row: ', arr[0,1])"
   ]
  },
  {
   "cell_type": "markdown",
   "id": "48d2dbe9-9bb3-497a-aace-40f5800d73eb",
   "metadata": {},
   "source": [
    "## Access the element on the 2nd row, 5th column"
   ]
  },
  {
   "cell_type": "code",
   "execution_count": 23,
   "id": "c92540a0-a927-437f-b3b4-67a35fff3344",
   "metadata": {},
   "outputs": [
    {
     "name": "stdout",
     "output_type": "stream",
     "text": [
      "2nd element on 1st row:  e\n"
     ]
    }
   ],
   "source": [
    "arr = np.array([['a','b','c'], ['d','e','f']])\n",
    "\n",
    "print('2nd element on 1st row: ', arr[1,1])"
   ]
  },
  {
   "cell_type": "markdown",
   "id": "9c09d7d8-abc6-4d94-8a1b-9e3c144a1e52",
   "metadata": {},
   "source": [
    "## Access the 3rd element of the second array of the first array"
   ]
  },
  {
   "cell_type": "code",
   "execution_count": 24,
   "id": "98413554-061b-4f96-afbd-dd6955e5ec10",
   "metadata": {},
   "outputs": [
    {
     "name": "stdout",
     "output_type": "stream",
     "text": [
      "i\n"
     ]
    }
   ],
   "source": [
    "arr = np.array([[['a','b','c'], ['d','e','f']], [['g','h','i'],['j','k','l']]])\n",
    "\n",
    "print(arr[1,0,2])"
   ]
  },
  {
   "cell_type": "code",
   "execution_count": null,
   "id": "f57060aa-0777-40b8-b72b-7e897dbfe62d",
   "metadata": {},
   "outputs": [],
   "source": []
  }
 ],
 "metadata": {
  "kernelspec": {
   "display_name": "Python 3 (ipykernel)",
   "language": "python",
   "name": "python3"
  },
  "language_info": {
   "codemirror_mode": {
    "name": "ipython",
    "version": 3
   },
   "file_extension": ".py",
   "mimetype": "text/x-python",
   "name": "python",
   "nbconvert_exporter": "python",
   "pygments_lexer": "ipython3",
   "version": "3.11.7"
  }
 },
 "nbformat": 4,
 "nbformat_minor": 5
}
