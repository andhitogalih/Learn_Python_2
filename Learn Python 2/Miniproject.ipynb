{
 "cells": [
  {
   "cell_type": "markdown",
   "id": "ffc7c769-f095-4e07-bf8a-c901a8d5ca85",
   "metadata": {},
   "source": [
    "### **Import library**"
   ]
  },
  {
   "cell_type": "code",
   "execution_count": 1,
   "id": "b4565aad-10b2-4570-9a43-80c7be71a738",
   "metadata": {},
   "outputs": [],
   "source": [
    "# Import library\n",
    "import numpy as np\n",
    "import pandas as pd"
   ]
  },
  {
   "cell_type": "markdown",
   "id": "94cb072a-af14-47c2-81db-5711729a7782",
   "metadata": {},
   "source": [
    "### **Random data**"
   ]
  },
  {
   "cell_type": "code",
   "execution_count": 2,
   "id": "e9934537-e001-48dd-baa2-006c76e22058",
   "metadata": {},
   "outputs": [],
   "source": [
    "n = 100 # Jumlah siswa\n",
    "\n",
    "# Menghasilkan data untuk tugas, uts, dan uas\n",
    "tugas = np.random.normal(85, 7, n)\n",
    "uts = np.random.normal(60, 15, n)\n",
    "uas = np.random.normal(75, 10, n)"
   ]
  },
  {
   "cell_type": "markdown",
   "id": "0e1733bf-3317-47ae-a38f-58b9bbc4ffb3",
   "metadata": {},
   "source": [
    "### **Membuat Data Frame**"
   ]
  },
  {
   "cell_type": "code",
   "execution_count": 3,
   "id": "3a8dcae2-9862-43d8-ade5-dcae3c3099d7",
   "metadata": {},
   "outputs": [],
   "source": [
    "# Membuat DataFrame\n",
    "df = pd.DataFrame({\n",
    "    'tugas': tugas,\n",
    "    'uts': uts,\n",
    "    'uas': uas\n",
    "})"
   ]
  },
  {
   "cell_type": "markdown",
   "id": "10efe719-57b0-425f-8685-9e30c5ad2706",
   "metadata": {},
   "source": [
    "### **Menghitung nilai akhir**"
   ]
  },
  {
   "cell_type": "code",
   "execution_count": 4,
   "id": "ba21f5a5-c076-4f33-9b83-33e1c92d8958",
   "metadata": {},
   "outputs": [],
   "source": [
    "# Menghitung nilai akhir\n",
    "df['nilai_akhir'] = df['tugas'] * 0.2 + df['uts'] * 0.4 + df['uas'] * 0.4"
   ]
  },
  {
   "cell_type": "code",
   "execution_count": 5,
   "id": "784febf2-690f-49e5-8ec9-d3bda334beff",
   "metadata": {},
   "outputs": [],
   "source": [
    "def binning(nilai):\n",
    "    if 85 <= nilai <= 100:\n",
    "        return 'A'\n",
    "    elif 80 <= nilai < 85:\n",
    "        return 'A-'\n",
    "    elif 75 <= nilai < 80:\n",
    "        return 'B+'\n",
    "    elif 70 <= nilai < 75:\n",
    "        return 'B'\n",
    "    elif 65 <= nilai < 70:\n",
    "        return 'B-'\n",
    "    elif 60 <= nilai < 65:\n",
    "        return 'C+'\n",
    "    elif 55 <= nilai < 60:\n",
    "        return 'C'\n",
    "    elif 50 <= nilai < 55:\n",
    "        return 'C-'\n",
    "    elif 20 <= nilai < 50:\n",
    "        return 'D'\n",
    "    else:\n",
    "        return 'E'\n",
    "\n",
    "# Membuat kolom baru dengan binning\n",
    "df['nilai_akhir_binning'] = df['nilai_akhir'].apply(binning)\n"
   ]
  },
  {
   "cell_type": "markdown",
   "id": "fd559796-afdb-434b-8aac-c81d80cfa999",
   "metadata": {},
   "source": [
    "### **Cetak DataFrame sebelum menambahkan kolom grade**"
   ]
  },
  {
   "cell_type": "code",
   "execution_count": 6,
   "id": "faf8d3dc-c8b7-4454-b312-2ae31f0010a2",
   "metadata": {},
   "outputs": [
    {
     "name": "stdout",
     "output_type": "stream",
     "text": [
      "        tugas        uts        uas  nilai_akhir\n",
      "0   82.611995  56.868905  63.138505    64.525363\n",
      "1   90.140897  55.939772  86.603795    75.045606\n",
      "2   79.533918  51.329296  74.166873    66.105251\n",
      "3   86.609002  70.499361  78.124016    76.771151\n",
      "4   65.426894  66.067554  62.953855    64.693942\n",
      "..        ...        ...        ...          ...\n",
      "95  81.427311  68.216741  88.710476    79.056349\n",
      "96  93.147257  72.601188  86.792649    82.386986\n",
      "97  83.750336  74.283439  75.735369    76.757590\n",
      "98  84.532397  65.497557  91.065860    79.531846\n",
      "99  87.473703  71.090050  67.331392    72.863318\n",
      "\n",
      "[100 rows x 4 columns]\n"
     ]
    }
   ],
   "source": [
    "# Cetak DataFrame sebelum menambahkan kolom grade\n",
    "print(df[['tugas', 'uts', 'uas', 'nilai_akhir']])"
   ]
  },
  {
   "cell_type": "markdown",
   "id": "ac3bc8e0-9cd6-4d82-b7f0-cb05aecf6243",
   "metadata": {},
   "source": [
    "### **Tambahkan kolom grade**"
   ]
  },
  {
   "cell_type": "code",
   "execution_count": 7,
   "id": "4cd950f6-eee6-48b6-9a6a-f70d06e78c6e",
   "metadata": {},
   "outputs": [],
   "source": [
    "# Tambahkan kolom grade\n",
    "df['grade'] = df['nilai_akhir'].apply(binning)"
   ]
  },
  {
   "cell_type": "markdown",
   "id": "2cd97238-f980-44f7-9584-6933ad0e3d85",
   "metadata": {},
   "source": [
    "### **Cetak DataFrame setelah menambahkan kolom grade**"
   ]
  },
  {
   "cell_type": "code",
   "execution_count": 8,
   "id": "866837db-a688-4819-8810-a36ed008bce8",
   "metadata": {},
   "outputs": [
    {
     "name": "stdout",
     "output_type": "stream",
     "text": [
      "        tugas        uts        uas  nilai_akhir grade\n",
      "0   82.611995  56.868905  63.138505    64.525363    C+\n",
      "1   90.140897  55.939772  86.603795    75.045606    B+\n",
      "2   79.533918  51.329296  74.166873    66.105251    B-\n",
      "3   86.609002  70.499361  78.124016    76.771151    B+\n",
      "4   65.426894  66.067554  62.953855    64.693942    C+\n",
      "..        ...        ...        ...          ...   ...\n",
      "95  81.427311  68.216741  88.710476    79.056349    B+\n",
      "96  93.147257  72.601188  86.792649    82.386986    A-\n",
      "97  83.750336  74.283439  75.735369    76.757590    B+\n",
      "98  84.532397  65.497557  91.065860    79.531846    B+\n",
      "99  87.473703  71.090050  67.331392    72.863318     B\n",
      "\n",
      "[100 rows x 5 columns]\n"
     ]
    }
   ],
   "source": [
    "# Cetak DataFrame setelah menambahkan kolom grade\n",
    "print(df[['tugas', 'uts', 'uas', 'nilai_akhir', 'grade']])"
   ]
  },
  {
   "cell_type": "code",
   "execution_count": null,
   "id": "8a62f4a0-2acd-4858-b10c-4366956b0634",
   "metadata": {},
   "outputs": [],
   "source": []
  }
 ],
 "metadata": {
  "kernelspec": {
   "display_name": "Python 3 (ipykernel)",
   "language": "python",
   "name": "python3"
  },
  "language_info": {
   "codemirror_mode": {
    "name": "ipython",
    "version": 3
   },
   "file_extension": ".py",
   "mimetype": "text/x-python",
   "name": "python",
   "nbconvert_exporter": "python",
   "pygments_lexer": "ipython3",
   "version": "3.11.7"
  }
 },
 "nbformat": 4,
 "nbformat_minor": 5
}
